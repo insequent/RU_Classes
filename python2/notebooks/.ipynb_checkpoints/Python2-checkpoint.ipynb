{
 "cells": [
  {
   "cell_type": "markdown",
   "metadata": {},
   "source": [
    "#PYTHON II\n",
    "\n",
    "![bug_feature](http://darkness.io/python2/slides/images/bug_or_feature.jpg \"Bug or Feature\")\n"
   ]
  },
  {
   "cell_type": "markdown",
   "metadata": {},
   "source": [
    "#INTRODUCTIONS\n",
    "\n",
    "####Instructor Contact Info\n",
    "####Introductions\n",
    "* Name\n",
    "* Team Name\n",
    "* Any previous programming experience?\n",
    "* Define what you most want from the course."
   ]
  },
  {
   "cell_type": "markdown",
   "metadata": {},
   "source": [
    "#THIS COURSE\n",
    "\n",
    "Assumes knowledge of concepts found in Python I or equivalent experience\n",
    "\n",
    "#### What's covered:\n",
    "* Python 2.7 mostly, however Python 3 also mentioned\n",
    "* Topics: JSON, ReST Client, Unittest, Mock, PEP249 (DB-API), Subprocess, Decorators, Threads/Multiprocessing, and ReST Server (if time permits)\n",
    "    \n",
    "#### What's not covered:\n",
    "* Math or Graphics\n",
    "* Python Internals (although some are mentioned)\n",
    "* Python Frameworks"
   ]
  },
  {
   "cell_type": "markdown",
   "metadata": {},
   "source": [
    "#WAYS TO RUN PYTHON\n",
    "\n",
    "All methods are acceptable in class. However, do not underestimate to power of the tools, and how much they can speed up the process.\n",
    "\n",
    "* IPython\n",
    "* Vim/Emacs with plugins\n",
    "* PyCharm\n",
    "* `<insert IDE of your choice>`\n",
    "* `<insert Debugger of your choice>`"
   ]
  },
  {
   "cell_type": "markdown",
   "metadata": {},
   "source": [
    "#VIRTUALENV\n",
    "\n",
    "* Creates an isolated python environment customized to your version and dependency requirements\n",
    "* Comes with distribute, easy_install, and pip\n",
    "* Allows control of environments where root authority is lacking\n",
    "\n",
    "####Install and activate:\n",
    "* virtualenv2 new_env\n",
    "* source new_env/bin/activate\n",
    "    \n",
    "####To leave the sandbox:\n",
    "* deactivate"
   ]
  },
  {
   "cell_type": "markdown",
   "metadata": {},
   "source": [
    "#PACKAGE MANAGEMENT\n",
    "\n",
    "* OS will offer most packages\n",
    "* PIP can cover the rest of what's needed, but **DO NOT USE IT IN PRODUCTION**. Instead, bundle your software in an sandbox or create your own OS package.\n",
    "\n",
    "####PIP (https://pypi.python.org)\n",
    "* pip search `<package name>`\n",
    "* pip show `<package name>`\n",
    "* pip install `<package name>`\n",
    "* pip install `<package name>=<version>`\n",
    "* pip install -U `<package name>`\n",
    "* pip freeze"
   ]
  },
  {
   "cell_type": "markdown",
   "metadata": {},
   "source": [
    "#QUICK REVIEW\n",
    "\n",
    "#####Anatomy of a Module\n",
    "```\n",
    "#!/usr/bin/env python2\n",
    "# -*- coding: utf-8 -*-\n",
    "\"\"\" Docstrings \"\"\"\n",
    "\n",
    "Import(s)\n",
    "\n",
    "\n",
    "Declarations\n",
    "    \"\"\" More Docstrings \"\"\"\n",
    "\n",
    "\n",
    "Statements (Sometimes encapsulated in '''if __name__ == \"__main__\":''')\n",
    "```"
   ]
  },
  {
   "cell_type": "markdown",
   "metadata": {},
   "source": [
    " #PYTHON KEYWORDS\n",
    "\n",
    "####Reserved Words\n",
    "*NOTE: You can still overwrite them!*\n",
    "```\n",
    " and        del       from     not      while\n",
    " as         elif      global   or       with\n",
    " assert     else      if       pass     yield\n",
    " break      except    import   print\n",
    " class      exec      in       raise\n",
    " continue   finally   is       return  \n",
    " def        for       lambda   try\n",
    "```"
   ]
  },
  {
   "cell_type": "markdown",
   "metadata": {},
   "source": [
    "#TUPLE TYPE\n",
    "\n",
    "* Tuples are sequences of other objects that cannot be changed (\"immutable\")\n",
    "* Tuples can contain any type of object, are ordered, and can be sliced\n",
    "* A single element tuple can be formed ending with a comma, because parenthesises are typically used for to show association (such as `(1+2)*3`).\n",
    "\n",
    "#####Examples:"
   ]
  },
  {
   "cell_type": "code",
   "execution_count": 1,
   "metadata": {
    "collapsed": true
   },
   "outputs": [],
   "source": [
    "tup = (1, \"a\", 3)\n",
    "tup2 = tuple(\"abc\")\n",
    "tup3 = (1,) # Comma needed for single element\n",
    "tup4 = (x**2 for x in range(5)) # What's wrong with this example?"
   ]
  },
  {
   "cell_type": "markdown",
   "metadata": {},
   "source": [
    "#LIST TYPE\n",
    "\n",
    "* Lists are sequences that can be changed (\"mutable\")\n",
    "* Lists can contain other object types and can be sliced\n",
    "* A list is a set of objects, separated by commas, and enclosed in square brackets\n",
    "\n",
    "#####Examples:"
   ]
  },
  {
   "cell_type": "code",
   "execution_count": null,
   "metadata": {
    "collapsed": true
   },
   "outputs": [],
   "source": [
    "lst = [1, \"a\", 3]\n",
    "lst2 = list(\"abc\")\n",
    "lst3 = [1]\n",
    "lst4 = [x**2 for x in range(5)]"
   ]
  },
  {
   "cell_type": "markdown",
   "metadata": {},
   "source": [
    "#DICTIONARY TYPE\n",
    "\n",
    "* A dictionary (\"dict\") type is a set of associations between a \"key\" and its \"value\"\n",
    "* A dict is a \"mapping\" and is also known as an associative array or hash table\n",
    "* A dictionary key must be a value\n",
    "* A dictionary value can contain any arbitrary object\n",
    "\n",
    "#####Examples:"
   ]
  },
  {
   "cell_type": "code",
   "execution_count": null,
   "metadata": {
    "collapsed": false
   },
   "outputs": [],
   "source": [
    "dic = {\"a\":1, \"b\":2}\n",
    "dic2 = dict(a=1, b=2, c=3)\n",
    "dic3 = {1:\"a\"}\n",
    "dic4 = {x:chr(x) for x in range(97, 107)}"
   ]
  },
  {
   "cell_type": "markdown",
   "metadata": {
    "collapsed": true
   },
   "source": [
    "#SET TYPE\n",
    "\n",
    "* A set is a mutable group of unordered immutable objects with unique values (i.e. no duplicates)\n",
    "* Sets use the \"{}\" brackets just like a dictionary, but does not have colons (i.e. no key/value pair)\n",
    "* Slicing is not allowed (why?), but iterators work\n",
    "* Set operations are quite powerful, but not always the most efficient\n",
    "\n",
    "#####Examples:"
   ]
  },
  {
   "cell_type": "code",
   "execution_count": null,
   "metadata": {
    "collapsed": true
   },
   "outputs": [],
   "source": [
    "st = {1,2,2,3}\n",
    "st2 = set(\"abc\")\n",
    "st3 = {1}\n",
    "st4 = {x for x in range(5)}"
   ]
  }
 ],
 "metadata": {
  "kernelspec": {
   "display_name": "Python 2",
   "language": "python",
   "name": "python2"
  },
  "language_info": {
   "codemirror_mode": {
    "name": "ipython",
    "version": 2
   },
   "file_extension": ".py",
   "mimetype": "text/x-python",
   "name": "python",
   "nbconvert_exporter": "python",
   "pygments_lexer": "ipython2",
   "version": "2.7.9"
  }
 },
 "nbformat": 4,
 "nbformat_minor": 0
}
